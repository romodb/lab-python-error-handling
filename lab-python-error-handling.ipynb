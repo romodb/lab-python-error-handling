{
 "cells": [
  {
   "cell_type": "markdown",
   "id": "25d7736c-ba17-4aff-b6bb-66eba20fbf4e",
   "metadata": {},
   "source": [
    "# Lab | Error Handling"
   ]
  },
  {
   "cell_type": "markdown",
   "id": "6f8e446f-16b4-4e21-92e7-9d3d1eb551b6",
   "metadata": {},
   "source": [
    "Objective: Practice how to identify, handle and recover from potential errors in Python code using try-except blocks."
   ]
  },
  {
   "cell_type": "markdown",
   "id": "e253e768-aed8-4791-a800-87add1204afa",
   "metadata": {},
   "source": [
    "## Challenge \n",
    "\n",
    "Paste here your lab *functions* solutions. Apply error handling techniques to each function using try-except blocks. "
   ]
  },
  {
   "cell_type": "markdown",
   "id": "9180ff86-c3fe-4152-a609-081a287fa1af",
   "metadata": {},
   "source": [
    "The try-except block in Python is designed to handle exceptions and provide a fallback mechanism when code encounters errors. By enclosing the code that could potentially throw errors in a try block, followed by specific or general exception handling in the except block, we can gracefully recover from errors and continue program execution.\n",
    "\n",
    "However, there may be cases where an input may not produce an immediate error, but still needs to be addressed. In such situations, it can be useful to explicitly raise an error using the \"raise\" keyword, either to draw attention to the issue or handle it elsewhere in the program.\n",
    "\n",
    "Modify the code to handle possible errors in Python, it is recommended to use `try-except-else-finally` blocks, incorporate the `raise` keyword where necessary, and print meaningful error messages to alert users of any issues that may occur during program execution.\n",
    "\n"
   ]
  },
  {
   "cell_type": "code",
   "execution_count": null,
   "id": "cc2c441d-9dcf-4817-b097-cf6cbe440846",
   "metadata": {},
   "outputs": [],
   "source": [
    "def ini_inventory(products):\n",
    "    \"inventario\" == {\n",
    "        \"hat\" : 4,\n",
    "        \"book\" : 5,\n",
    "        \"key-chane\" : 7,\n",
    "        \"mug\" : 2\n",
    "    }\n",
    "    for product in products:\n",
    "        while True:\n",
    "            try:\n",
    "                cantidad = int(input(f\"Ingrese la cantidad disponible para {product}: \"))\n",
    "                if cantidad < 0:\n",
    "                    raise \"La cantidad no puede ser negativa. Inténtalo de nuevo.\"\n",
    "                else:\n",
    "                    break\n",
    "            except ValueError:\n",
    "                raise \"Por favor, ingresa un número válido.\""
   ]
  },
  {
   "cell_type": "code",
   "execution_count": null,
   "id": "8c793905",
   "metadata": {},
   "outputs": [],
   "source": [
    "def get_customers_orders():\n",
    "    customers_orders = set()\n",
    "    while True:\n",
    "        product = input(\"Por favor escribe lo que quieras comprar, si deseas cancelar la compra escribe salir\").strip()\n",
    "        if product.lower() == \"salir\":\n",
    "            print(\"Muchas gracias por tu compra\")\n",
    "            break\n",
    "        if product:\n",
    "            customers_orders.add(product)  \n",
    "            input(\"¿Quieres añadir algo mas?, si quieres salir escribe salir\")\n",
    "        else:\n",
    "            raise f\"No tenemos {product} en el inventario, por favor intentalo de nuevo\"\n",
    "    return customers_orders\n",
    "\n",
    "pedidos = get_customers_orders()"
   ]
  },
  {
   "cell_type": "code",
   "execution_count": null,
   "id": "1db2696e",
   "metadata": {},
   "outputs": [],
   "source": [
    "inventario = {\n",
    "        \"hat\" : 4,\n",
    "        \"book\" : 5,\n",
    "        \"key-chane\" : 7,\n",
    "        \"mug\" : 2\n",
    "    }\n",
    "\n",
    "def update_inventory(customers_orders, inventario):\n",
    "    for product in customers_orders:\n",
    "        if product in inventario:\n",
    "            if inventario[product] >= 1:\n",
    "                print(f\"Quedan {inventario[product]} en el almacen\")\n",
    "            else:\n",
    "                raise \"Te falta stock\"\n",
    "        else:\n",
    "            raise \"No es un artículo de nuestro catálogo\"\n",
    "    \n",
    "    return inventario"
   ]
  }
 ],
 "metadata": {
  "kernelspec": {
   "display_name": "Python 3 (ipykernel)",
   "language": "python",
   "name": "python3"
  },
  "language_info": {
   "codemirror_mode": {
    "name": "ipython",
    "version": 3
   },
   "file_extension": ".py",
   "mimetype": "text/x-python",
   "name": "python",
   "nbconvert_exporter": "python",
   "pygments_lexer": "ipython3",
   "version": "3.9.13"
  }
 },
 "nbformat": 4,
 "nbformat_minor": 5
}
